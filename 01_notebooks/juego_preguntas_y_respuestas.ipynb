{
 "cells": [
  {
   "cell_type": "code",
   "execution_count": null,
   "id": "171f95f5",
   "metadata": {},
   "outputs": [],
   "source": [
    "import random #importamos la galería random para que seleccione aleatoriamente las preguntas a realizar"
   ]
  },
  {
   "cell_type": "code",
   "execution_count": null,
   "id": "022989df",
   "metadata": {},
   "outputs": [],
   "source": [
    "#creamos un diccionario que contenga las preguntas y respuestas correctas\n",
    "preguntas = {\n",
    "\"¿Cuál es el río más largo del mundo?\": {\"Respuesta\": \"NILO\"},\n",
    "\"¿Cuál es la montaña más alta del mundo?\": {\"Respuesta\": \"EVEREST\"},\n",
    "\"¿Cuál es el país más poblado del mundo?\": {\"Respuesta\": \"INDIA\"},\n",
    "\"¿Cuál es el país más extenso del mundo\": {\"Respuesta\": \"RUSIA\"},\n",
    "\"¿Cuál es el país con más volcanos activos del mundo\": {\"Respuesta\": \"ESTADOS UNIDOS\"},\n",
    "\"¿Cuál es el océano más grande del mundo\": {\"Respuesta\": \"PACIFICO\"},\n",
    "\"¿Cuál es el país más pequeño del mundo\": {\"Respuesta\": \"CIUDAD DEL VATICANO\"},\n",
    "\"¿Cuál es el país más turístico del mundo\": {\"Respuesta\": \"FRANCIA\"},\n",
    "\"¿Cuál es el país con más islas del mundo?\": {\"Respuesta\": \"SUECIA\"},\n",
    "\"¿Cuál es el continente más grande del mundo?\": {\"Respuesta\": \"ASIA\"}\n",
    "}\n"
   ]
  },
  {
   "cell_type": "code",
   "execution_count": null,
   "id": "31c6e12b",
   "metadata": {},
   "outputs": [],
   "source": [
    "\"\"\"Definimos la función central del juego. Aleatoriamente selecciona una pregunta y solicita la respuesta, que contrasta con la llave\n",
    "clave-valor que definimos previamente. El jugador cuenta con 3 posibilidades para adivinar cada pregunta, sino lo hace la computadora\n",
    "lo contabiliza como error y le indica la respuesta correcta. Si el jugador adivina 5 respuestas correctamente, se lo da por ganador\"\"\"\n",
    "\n",
    "def juego_preguntas_y_respuestas(preguntas_dict): #definimos una función que contabiliza las respuestas correctas, incorrectas y realizadas, para eliminarlas del diccionario y evitar su repetición\n",
    "    correctas = 0 \n",
    "    incorrectas = 0\n",
    "    realizadas = 0\n",
    "    preguntas_dict_copy = preguntas_dict.copy()\n",
    "  \n",
    "    while correctas < 5 and incorrectas < 3: #mientras que el jugador no tenga 5 aciertos ni 3 errores, puede jugar.\n",
    "        pregunta = random.choice(list(preguntas_dict_copy.keys())) #se selecciona una pregunta aleatoriamente y se la guarda en una variable\n",
    "        realizadas += 1 #suma 1 a las preguntas ya realizadas\n",
    "        del preguntas_dict_copy[pregunta] #suprime la pregunta del diccionario para evitar su reiteración\n",
    "        respuesta_correcta = preguntas_dict[pregunta][\"Respuesta\"] #contrasta que la respuesta del jugador sea la correcta \n",
    "        \n",
    "        intentos = 0 #contabiliza los errores\n",
    "        acertada = False #si la respuesta no es correcta, el juego continue\n",
    "\n",
    "        while intentos < 3 and not acertada: #el jugador sigue jugando siempre que no acierte la pregunta y tenga suficientes intentos\n",
    "            intentos += 1 #suma un intento cada vez que responde de forma errónea\n",
    "            respuesta = input(f\"Pregunta {hechas}: {pregunta} (Intento {intentos}/3.): \").strip().upper() #muestra el progreso del jugador\n",
    "            \n",
    "            if respuesta == respuesta_correcta: #contrasta que la respuesta del jugador sea la correcta \n",
    "                print(\"Correcto\")\n",
    "                correctas += 1 #suma 1 punto a respuestas correctas\n",
    "                acertada = True #al acertar, sale de la pregunta ya realizada\n",
    "            else:\n",
    "                print(\"Incorrecto\") #si la respuesta no es acertada, informa de ello\n",
    "                if intentos < 3: #si el jugador alcanzó los 3 intentos, pasa a otra pregunta\n",
    "                    print(\"Inténtalo de nuevo\")\n",
    "                else:\n",
    "                    print(f\"La respuesta correcta era: {respuesta_correcta}\") #informa cuál era la respuesta correcta\n",
    "        if not acertada:\n",
    "            incorrectas += 1 #si la respuesta no fue acertada, suma 1 punto a respuestas incorrectas\n",
    "            \n",
    "        print(f\"Contador: correctas {correctas}, incorrectas {incorrectas}\") #imprime el contador de respuestas\n",
    "\n",
    "    #comprobamos las ccondiciones de victoria o derrota\n",
    "    if correctas >= 5: \n",
    "        print(\"¡Felicidades! Has ganado respondiendo 5 preguntas correctamente.\")\n",
    "    else:\n",
    "        print(\"Juego terminado. Has cometido 3 errores. ¡Más suerte la próxima vez!\")  "
   ]
  },
  {
   "cell_type": "code",
   "execution_count": 6,
   "id": "3bed2f4f",
   "metadata": {},
   "outputs": [
    {
     "name": "stdout",
     "output_type": "stream",
     "text": [
      "Correcto\n",
      "Contador: correctas 1, incorrectas 0\n",
      "Correcto\n",
      "Contador: correctas 2, incorrectas 0\n",
      "Incorrecto\n",
      "Inténtalo de nuevo\n",
      "Incorrecto\n",
      "Inténtalo de nuevo\n",
      "Incorrecto\n",
      "La respuesta correcta era: ESTADOS UNIDOS\n",
      "Contador: correctas 2, incorrectas 1\n",
      "Correcto\n",
      "Contador: correctas 3, incorrectas 1\n",
      "Correcto\n",
      "Contador: correctas 4, incorrectas 1\n",
      "Correcto\n",
      "Contador: correctas 5, incorrectas 1\n",
      "¡Felicidades! Has ganado respondiendo 5 preguntas correctamente.\n"
     ]
    }
   ],
   "source": [
    "juego_preguntas_y_respuestas(preguntas)"
   ]
  }
 ],
 "metadata": {
  "kernelspec": {
   "display_name": "base",
   "language": "python",
   "name": "python3"
  },
  "language_info": {
   "codemirror_mode": {
    "name": "ipython",
    "version": 3
   },
   "file_extension": ".py",
   "mimetype": "text/x-python",
   "name": "python",
   "nbconvert_exporter": "python",
   "pygments_lexer": "ipython3",
   "version": "3.12.7"
  }
 },
 "nbformat": 4,
 "nbformat_minor": 5
}
