{
 "cells": [
  {
   "cell_type": "markdown",
   "id": "76add2bf",
   "metadata": {},
   "source": [
    "## Game: 'Rock, paper, scissors'"
   ]
  },
  {
   "cell_type": "code",
   "execution_count": 2,
   "id": "7a73a383",
   "metadata": {},
   "outputs": [],
   "source": [
    "import random # import the random library to compete against the computer"
   ]
  },
  {
   "cell_type": "code",
   "execution_count": 3,
   "id": "398e749e",
   "metadata": {},
   "outputs": [
    {
     "name": "stdout",
     "output_type": "stream",
     "text": [
      "Points - Player: 0 | Computer: 0\n",
      "Player chose: Rock | Computer chose: Scissors\n",
      "You are the winner of this round!\n",
      "Points - Player: 1 | Computer: 0\n",
      "Player chose: Paper | Computer chose: Paper\n",
      "Tie!\n",
      "Points - Player: 1 | Computer: 0\n",
      "Player chose: Scissors | Computer chose: Paper\n",
      "You are the winner of this round!\n",
      "Points - Player: 2 | Computer: 0\n",
      "Player chose: Rock | Computer chose: Paper\n",
      "Computer wins this round.\n",
      "Points - Player: 2 | Computer: 1\n",
      "Player chose: Paper | Computer chose: Paper\n",
      "Tie!\n",
      "Points - Player: 2 | Computer: 1\n",
      "Player chose: Paper | Computer chose: Scissors\n",
      "Computer wins this round.\n",
      "Points - Player: 2 | Computer: 2\n",
      "Player chose: Scissors | Computer chose: Scissors\n",
      "Tie!\n",
      "Points - Player: 2 | Computer: 2\n",
      "Player chose: Scissors | Computer chose: Rock\n",
      "Computer wins this round.\n",
      "End of game\n",
      "The computer has won the game. Good luck next time!\n"
     ]
    }
   ],
   "source": [
    "target_points = 3 # set how many points are needed to win\n",
    "\n",
    "# initial point counter for each player\n",
    "player_points = 0\n",
    "computer_points = 0\n",
    "\n",
    "def player_choice(): # function to obtain and validate the player's choice\n",
    "    while True:\n",
    "        choice = input('Choose Rock, Paper or Scissors: ').strip().lower()\n",
    "        if choice in ['rock', 'paper', 'scissors']:\n",
    "            return choice\n",
    "        else:\n",
    "            print('Invalid option. Please try again.') # in case the player does not enter a valid option\n",
    "\n",
    "def determine_winner(player, computer): # function to obtain the winner in each round\n",
    "    if player == computer:\n",
    "        return 'tie'\n",
    "    elif (player == 'rock' and computer == 'scissors') or (player == 'paper' and computer == 'rock') or (player == 'scissors' and computer == 'paper'):\n",
    "        return 'player'\n",
    "    else:\n",
    "        return 'computer'\n",
    "    \n",
    "\"\"\"The game's main function is to ask the player to enter their choice: Rock, Paper, or Scissors. It compares it with the computer's random selection to determine whether there is a winner or a tie. The points are added to the winner, and if any score reaches the maximum, the winner is announced.\"\"\"\n",
    "\n",
    "while player_points < target_points and computer_points < target_points:\n",
    "    print(f'Points - Player: {player_points} | Computer: {computer_points}') # board and scores\n",
    "\n",
    "    player = player_choice()\n",
    "    computer = random.choice(['rock', 'paper', 'scissors']) # gets and validates the computer's random choice\n",
    "\n",
    "    print(f'Player chose: {player.capitalize()} | Computer chose: {computer.capitalize()}')\n",
    "\n",
    "    result = determine_winner(player, computer) # compare the elections and determine who won the round\n",
    "\n",
    "    if result == 'tie': # in case of a tie, no player scores points\n",
    "        print('Tie!')\n",
    "    elif result == 'player': # add points to the player\n",
    "        print('You are the winner of this round!')\n",
    "        player_points += 1 \n",
    "    else: # if the computer wins, add points to the score\n",
    "        print('Computer wins this round.')\n",
    "        computer_points += 1\n",
    "\n",
    "print('End of game')\n",
    "if player_points == target_points: # if the player reached the target points, is designated the winner of the game\n",
    "    print('Congratulations, you are the winner of the game!')\n",
    "else:\n",
    "    print('The computer has won the game. Good luck next time!')"
   ]
  }
 ],
 "metadata": {
  "kernelspec": {
   "display_name": "base",
   "language": "python",
   "name": "python3"
  },
  "language_info": {
   "codemirror_mode": {
    "name": "ipython",
    "version": 3
   },
   "file_extension": ".py",
   "mimetype": "text/x-python",
   "name": "python",
   "nbconvert_exporter": "python",
   "pygments_lexer": "ipython3",
   "version": "3.12.7"
  }
 },
 "nbformat": 4,
 "nbformat_minor": 5
}
