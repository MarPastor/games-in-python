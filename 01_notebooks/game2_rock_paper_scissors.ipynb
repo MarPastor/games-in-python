{
 "cells": [
  {
   "cell_type": "code",
   "execution_count": null,
   "id": "7a73a383",
   "metadata": {},
   "outputs": [],
   "source": [
    "import random #importamos el módulo random para que realice la elección aleatoria de opciones del segundo jugador (la computadora)"
   ]
  },
  {
   "cell_type": "code",
   "execution_count": null,
   "id": "398e749e",
   "metadata": {},
   "outputs": [],
   "source": [
    "puntos_objetivo = 3 #definimos cuántos puntos se necesitan para ganar"
   ]
  },
  {
   "cell_type": "code",
   "execution_count": null,
   "id": "dbad5129",
   "metadata": {},
   "outputs": [],
   "source": [
    "def obtener_eleccion_jugador(): #creamos una función para obtener y validar la elección del jugador\n",
    "    while True:\n",
    "        elección = input(\"Elige Piedra, Papel o Tijera: \").strip().lower()\n",
    "        if elección in ['piedra', 'papel', 'tijera']:\n",
    "            return elección\n",
    "        else:\n",
    "            print(\"Opción no válida. Intenta de nuevo.\") #en caso de que el jugador no ingrese una opción válida, se le informa"
   ]
  },
  {
   "cell_type": "code",
   "execution_count": null,
   "id": "a7ca70db",
   "metadata": {},
   "outputs": [],
   "source": [
    "def determinar_ganador(jugador, computadora): #creamos una función para determinar quién es el ganador en una ronda\n",
    "    if jugador == computadora:\n",
    "        return \"empate\"\n",
    "    elif (jugador == \"piedra\" and computadora == \"tijera\") or (jugador == \"papel\" and computadora == \"piedra\") or (jugador == \"tijera\" and computadora == \"papel\"):\n",
    "        return \"jugador\"\n",
    "    else:\n",
    "        return \"computadora\""
   ]
  },
  {
   "cell_type": "code",
   "execution_count": null,
   "id": "01ad9655",
   "metadata": {},
   "outputs": [],
   "source": [
    "#definimos un contador de puntos iniciales de cada jugador\n",
    "puntos_jugador = 0\n",
    "puntos_computadora = 0"
   ]
  },
  {
   "cell_type": "code",
   "execution_count": null,
   "id": "1e04c7e8",
   "metadata": {},
   "outputs": [
    {
     "name": "stdout",
     "output_type": "stream",
     "text": [
      "Puntos - Tú: 0 | Computadora: 0\n",
      "Tú elegiste: Piedra | Computadora eligió: Tijera\n",
      "¡Eres el ganador de esta ronda!\n",
      "Puntos - Tú: 1 | Computadora: 0\n",
      "Tú elegiste: Papel | Computadora eligió: Tijera\n",
      "La computadora gana esta ronda.\n",
      "Puntos - Tú: 1 | Computadora: 1\n",
      "Tú elegiste: Papel | Computadora eligió: Tijera\n",
      "La computadora gana esta ronda.\n",
      "Puntos - Tú: 1 | Computadora: 2\n",
      "Tú elegiste: Piedra | Computadora eligió: Papel\n",
      "La computadora gana esta ronda.\n",
      "Fin del juego\n",
      "La computadora ha ganado el juego. ¡Suerte para la próxima!\n"
     ]
    }
   ],
   "source": [
    "\"\"\"Creamos la función principal del juego, que le solicita al jugador que ingrese su elección de Piedra, Papel o Tijera, la contrasta con \n",
    "la que eligió la computadora, determina si hay un ganador o empate, suma los puntos a quien corresponde, y en caso de que se alcance\n",
    "el máximo, informa quién es el ganador\"\"\"\n",
    "\n",
    "while puntos_jugador < puntos_objetivo and puntos_computadora < puntos_objetivo: #chequea q los jugadores no hayan alcanzado el total de puntos\n",
    "    print(f\"Puntos - Tú: {puntos_jugador} | Computadora: {puntos_computadora}\") #informa los puntos de cada jugador\n",
    "\n",
    "    jugador = obtener_eleccion_jugador()  #obtiene y valida la elección del jugador\n",
    "    computadora = random.choice([\"piedra\", \"papel\", \"tijera\"])  #obtiene y valida la elección aleatoria de la computadora\n",
    "\n",
    "    print(f\"Tú elegiste: {jugador.capitalize()} | Computadora eligió: {computadora.capitalize()}\") #imprime e informa cuáles fueron las opciones escogidas por cada jugador\n",
    "\n",
    "    resultado = determinar_ganador(jugador, computadora) #contrasta las elecciones y determina quién ganó la ronda\n",
    "\n",
    "    if resultado == \"empate\": #en caso de empate ningun jugador suma puntos\n",
    "        print(\"¡Empate!\")\n",
    "    elif resultado == \"jugador\": #si gana el jugador suma sus puntos a su contador\n",
    "        print(\"¡Eres el ganador de esta ronda!\")\n",
    "        puntos_jugador += 1 \n",
    "    else: #si gano la computadora suma los puntos a su contador\n",
    "        print(\"La computadora gana esta ronda.\")\n",
    "        puntos_computadora += 1\n",
    "\n",
    "print(\"Fin del juego\")\n",
    "if puntos_jugador == puntos_objetivo: #si el jugador alcanzó los puntos objetivo, lo designa ganador del juego\n",
    "    print(\"¡Felicidades, eres el ganador del juego!\")\n",
    "else:\n",
    "    print(\"La computadora ha ganado el juego. ¡Suerte para la próxima!\") #si la computadora alcanzó los puntos objetivo, la designa ganadora del juego"
   ]
  }
 ],
 "metadata": {
  "kernelspec": {
   "display_name": "base",
   "language": "python",
   "name": "python3"
  },
  "language_info": {
   "codemirror_mode": {
    "name": "ipython",
    "version": 3
   },
   "file_extension": ".py",
   "mimetype": "text/x-python",
   "name": "python",
   "nbconvert_exporter": "python",
   "pygments_lexer": "ipython3",
   "version": "3.12.7"
  }
 },
 "nbformat": 4,
 "nbformat_minor": 5
}
