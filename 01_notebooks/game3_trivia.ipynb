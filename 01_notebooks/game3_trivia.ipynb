{
 "cells": [
  {
   "cell_type": "markdown",
   "id": "d6561fcb",
   "metadata": {},
   "source": [
    "## Game: 'Trivia'"
   ]
  },
  {
   "cell_type": "code",
   "execution_count": 1,
   "id": "171f95f5",
   "metadata": {},
   "outputs": [],
   "source": [
    "import random # import the random library to randomly select the questions to ask"
   ]
  },
  {
   "cell_type": "code",
   "execution_count": 14,
   "id": "31c6e12b",
   "metadata": {},
   "outputs": [],
   "source": [
    "# dictionary that contains the correct questions and answers\n",
    "\n",
    "questions_trivia = {\n",
    "\"What is the longest river in the world?\": {\"Answer\": \"NILE\"},\n",
    "\"What is the highest mountain in the world?\": {\"Answer\": \"EVEREST\"},\n",
    "\"What is the most populated country in the world?\": {\"Answer\": \"INDIA\"},\n",
    "\"What is the largest country in the world?\": {\"Answer\": \"RUSSIA\"},\n",
    "\"What is the country with the most active volcanoes in the world?\": {\"Answer\": \"UNITED STATES\"},\n",
    "\"What is the largest ocean in the world?\": {\"Answer\": \"PACIFIC\"},\n",
    "\"What is the smallest country in the world?\": {\"Answer\": \"VATICAN\"},\n",
    "\"What is the most touristic country in the world?\": {\"Answer\": \"FRANCE\"},\n",
    "\"What is the largest continent in the world?\": {\"Answer\": \"ASIA\"}\n",
    "}\n",
    "\n",
    "\"\"\"The game's core function: It randomly selects a question and requests the answer. It compares the answer with the key-values ​​we defined previously.\n",
    "\n",
    "The player has three chances to guess each question; if not, the computer counts it as an error and indicates the correct answer.\n",
    "\n",
    "The game ends when the player guesses five answers correctly.\"\"\"\n",
    "\n",
    "def trivia_game(questions_trivia):\n",
    "    correct = 0 \n",
    "    incorrect = 0\n",
    "    question_done = 0\n",
    "    questions_trivia_copy = questions_trivia.copy()\n",
    "  \n",
    "    while correct < 5 and incorrect < 3: # the player does not have 5 correct answers or 3 errors, the game continues\n",
    "        question = random.choice(list(questions_trivia_copy.keys()))\n",
    "        question_done += 1 # add to the questions done score\n",
    "        del questions_trivia_copy[question] # removes the question from the dictionary to avoid repetition\n",
    "        correct_answer = questions_trivia[question][\"Answer\"]\n",
    "        \n",
    "        attempts = 0 # counte mistakes\n",
    "        right_answer = False # if the answer is not correct, the game continues\n",
    "\n",
    "        while attempts < 3 and not right_answer:\n",
    "            attempts += 1\n",
    "            answer = input(f'Question: {question} (Attempts {attempts}/3): ').strip().upper() # shows progress of the player\n",
    "            \n",
    "            if answer == correct_answer:\n",
    "                print('Correct!')\n",
    "                correct += 1 \n",
    "                right_answer = True\n",
    "            else:\n",
    "                print('Incorrect')\n",
    "                if attempts < 3: # if the player reaches 3 attempts, moves on to another question\n",
    "                    print('Try it again')\n",
    "                else:\n",
    "                    print(f'The correct answer was: {correct_answer}') # shows the correct answer\n",
    "        if not right_answer:\n",
    "            incorrect += 1\n",
    "            \n",
    "        print(f'Score: Correct {correct}, Incorrect {incorrect}') # shows the score\n",
    "\n",
    "    if correct >= 5: # check the victory or defeat conditions\n",
    "        print('Congratulations! You won by answering 5 questions correctly.')\n",
    "    else:\n",
    "        print('Game over. You have made 3 mistakes. Better luck next time!')  "
   ]
  },
  {
   "cell_type": "code",
   "execution_count": 15,
   "id": "3bed2f4f",
   "metadata": {},
   "outputs": [
    {
     "name": "stdout",
     "output_type": "stream",
     "text": [
      "Correct!\n",
      "Score: Correct 1, Incorrect 0\n",
      "Correct!\n",
      "Score: Correct 2, Incorrect 0\n",
      "Correct!\n",
      "Score: Correct 3, Incorrect 0\n",
      "Incorrect\n",
      "Try it again\n",
      "Correct!\n",
      "Score: Correct 4, Incorrect 0\n",
      "Correct!\n",
      "Score: Correct 5, Incorrect 0\n",
      "Congratulations! You won by answering 5 questions correctly.\n"
     ]
    }
   ],
   "source": [
    "trivia_game(questions_trivia)"
   ]
  }
 ],
 "metadata": {
  "kernelspec": {
   "display_name": "base",
   "language": "python",
   "name": "python3"
  },
  "language_info": {
   "codemirror_mode": {
    "name": "ipython",
    "version": 3
   },
   "file_extension": ".py",
   "mimetype": "text/x-python",
   "name": "python",
   "nbconvert_exporter": "python",
   "pygments_lexer": "ipython3",
   "version": "3.12.7"
  }
 },
 "nbformat": 4,
 "nbformat_minor": 5
}
